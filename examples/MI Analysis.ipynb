{
 "metadata": {
  "name": "MI Analysis"
 },
 "nbformat": 3,
 "nbformat_minor": 0,
 "worksheets": [
  {
   "cells": [
    {
     "cell_type": "code",
     "collapsed": false,
     "input": [
      "from __future__ import division\n",
      "\n",
      "import numpy as np\n",
      "from matplotlib import pyplot as plt\n",
      "from scipy.signal import butter\n",
      "\n",
      "from wyrm import processing as proc\n",
      "from wyrm import plot\n",
      "from wyrm import io"
     ],
     "language": "python",
     "metadata": {},
     "outputs": [],
     "prompt_number": 1
    },
    {
     "cell_type": "code",
     "collapsed": false,
     "input": [
      "cnt = io.load_brain_vision_data('data/mi/VPkg_08_08_07/imag_arrowVPkg.vhdr')"
     ],
     "language": "python",
     "metadata": {},
     "outputs": [],
     "prompt_number": 2
    },
    {
     "cell_type": "code",
     "collapsed": false,
     "input": [
      "# remove unneeded channels\n",
      "#cnt = proc.remove_channels(cnt, ['EMG.*', 'EOG.*', 'FT.*', 'TP.*', 'I.*', 'P9', 'P10', 'OI.*'])\n",
      "cnt = proc.remove_channels(cnt, ['EMG.*', 'EOG.*'])"
     ],
     "language": "python",
     "metadata": {},
     "outputs": [],
     "prompt_number": 3
    },
    {
     "cell_type": "code",
     "collapsed": false,
     "input": [
      "# band pass data\n",
      "fn = cnt.fs / 2\n",
      "b, a = butter(4, [10 / fn, 14 / fn], btype='band')\n",
      "cnt = proc.lfilter(cnt, b, a)"
     ],
     "language": "python",
     "metadata": {},
     "outputs": [],
     "prompt_number": 4
    },
    {
     "cell_type": "code",
     "collapsed": false,
     "input": [
      "# subsampling\n",
      "cnt = proc.subsample(cnt, 100)"
     ],
     "language": "python",
     "metadata": {},
     "outputs": [],
     "prompt_number": 5
    },
    {
     "cell_type": "code",
     "collapsed": false,
     "input": [
      "# for mi we use ~750-3500ms range\n",
      "mrk_def = {'class 1': ['S  1'],\n",
      "           'class 2': ['S  2'],\n",
      "           'class 3': ['S  3']\n",
      "           }\n",
      "epo = proc.segment_dat(cnt, mrk_def, [-100, 3500])\n",
      "epo = proc.correct_for_baseline(epo, [-100, 0])"
     ],
     "language": "python",
     "metadata": {},
     "outputs": [],
     "prompt_number": 6
    },
    {
     "cell_type": "code",
     "collapsed": false,
     "input": [
      "# rectify channels\n",
      "epo2 = proc.rectify_channels(epo)"
     ],
     "language": "python",
     "metadata": {},
     "outputs": [],
     "prompt_number": 7
    },
    {
     "cell_type": "code",
     "collapsed": false,
     "input": [
      "epo_avg = proc.calculate_classwise_average(epo2)\n",
      "for i, e in enumerate(epo_avg.class_names):\n",
      "    plot.plot_channels(proc.select_epochs(epo_avg, [i]))\n",
      "plt.show()"
     ],
     "language": "python",
     "metadata": {},
     "outputs": [],
     "prompt_number": 8
    },
    {
     "cell_type": "code",
     "collapsed": false,
     "input": [
      "epo = proc.select_ival(epo, [750, 3500])"
     ],
     "language": "python",
     "metadata": {},
     "outputs": [],
     "prompt_number": 9
    },
    {
     "cell_type": "code",
     "collapsed": false,
     "input": [
      "data_left = proc.select_classes(epo, [0]).data\n",
      "data_right = proc.select_classes(epo, [1]).data\n",
      "w, a, d = proc.calculate_csp(data_left, data_right)\n",
      "# the interesting channels are usuall c3, c4 and cz\n",
      "for ii, i in enumerate([0, 1, 2, -3, -2, -1]):\n",
      "    plt.subplot(2, 3, ii+1)\n",
      "    plot.plot_scalp(a[:,i], epo.axes[-1])\n",
      "    plt.title(i)\n",
      "plt.show()"
     ],
     "language": "python",
     "metadata": {},
     "outputs": [],
     "prompt_number": 10
    },
    {
     "cell_type": "code",
     "collapsed": false,
     "input": [],
     "language": "python",
     "metadata": {},
     "outputs": [],
     "prompt_number": 10
    }
   ],
   "metadata": {}
  }
 ]
}