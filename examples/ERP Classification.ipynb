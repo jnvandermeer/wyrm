{
 "metadata": {
  "name": "ERP Classification"
 },
 "nbformat": 3,
 "nbformat_minor": 0,
 "worksheets": [
  {
   "cells": [
    {
     "cell_type": "code",
     "collapsed": false,
     "input": [
      "# ERP Classification Example\n",
      "# roughly based on /svn/bbci/toolbox/demos/stdERPclassification.m"
     ],
     "language": "python",
     "metadata": {},
     "outputs": [],
     "prompt_number": 1
    },
    {
     "cell_type": "code",
     "collapsed": false,
     "input": [
      "from __future__ import division\n",
      "\n",
      "import numpy as np\n",
      "from matplotlib import pyplot as plt\n",
      "from scipy.signal import butter\n",
      "from sklearn.lda import LDA\n",
      "from sklearn.neighbors import KNeighborsClassifier\n",
      "from sklearn import cross_validation\n",
      "\n",
      "from wyrm import processing as proc\n",
      "from wyrm import plot\n",
      "from wyrm import io"
     ],
     "language": "python",
     "metadata": {},
     "outputs": [],
     "prompt_number": 2
    },
    {
     "cell_type": "code",
     "collapsed": false,
     "input": [
      "# load bv data into cnt\n",
      "cnt = io.load_brain_vision_data('data/OnlineTrainFileVPfaz.vhdr')\n",
      "# remove unneeded channels\n",
      "cnt = proc.remove_channels(cnt, ['EOG.*', 'Mas.*'])\n",
      "# bandpass filter the data\n",
      "fn = cnt.fs / 2\n",
      "b, a = butter(4, [2 / fn, 40 / fn], btype='band')\n",
      "cnt = proc.lfilter(cnt, b, a)\n",
      "# subsampling to 100hz\n",
      "cnt = proc.subsample(cnt, 100)\n",
      "# epoch the data\n",
      "mrk_def = {'std': ['S %2i' % i for i in range(2, 7)],\n",
      "           'dev': ['S %2i' % i for i in range(12, 17)]\n",
      "           }\n",
      "epo = proc.segment_dat(cnt, mrk_def, [0, 800])"
     ],
     "language": "python",
     "metadata": {},
     "outputs": [
      {
       "output_type": "stream",
       "stream": "stderr",
       "text": [
        "/home/venthur/python-bci-env/wyrm/wyrm/io.py:104: DeprecationWarning: Implicitly casting between incompatible kinds. In a future numpy release, this will raise an error. Use casting=\"unsafe\" if this is intentional.\n",
        "  data *= resolutions[0]\n"
       ]
      }
     ],
     "prompt_number": 3
    },
    {
     "cell_type": "code",
     "collapsed": false,
     "input": [
      "# create the feature vector\n",
      "# make sure you don't apply information from the test set to the training set"
     ],
     "language": "python",
     "metadata": {},
     "outputs": [],
     "prompt_number": 4
    },
    {
     "cell_type": "code",
     "collapsed": false,
     "input": [
      "# TODO: proc_jumping means\n",
      "reload(proc)\n",
      "epo = proc.jumping_means(epo, [[80, 350], [360, 800]])\n",
      "fv = proc.create_feature_vectors(epo)"
     ],
     "language": "python",
     "metadata": {},
     "outputs": [],
     "prompt_number": 5
    },
    {
     "cell_type": "markdown",
     "metadata": {},
     "source": [
      "## Simple classification with 50/50 split\n",
      "\n",
      "To create the feature vector we just calculate the jumping means over the time-axis for each channel and concatenate them."
     ]
    },
    {
     "cell_type": "code",
     "collapsed": false,
     "input": [
      "std = proc.select_classes(fv, [1]).data\n",
      "dev = proc.select_classes(fv, [0]).data\n",
      "std_split = std.shape[0] // 2\n",
      "dev_split = dev.shape[0] // 2\n",
      "std1, std2 = std[:std_split], std[std_split:]\n",
      "dev1, dev2 = dev[:dev_split], dev[dev_split:]\n",
      "train = np.append(std1, dev1, axis=0)\n",
      "train_labels = np.append(np.zeros(len(std1)), np.ones(len(dev1)))\n",
      "test = np.append(std2, dev2, axis=0)\n",
      "test_labels = np.append(np.zeros(len(std2)), np.ones(len(dev2)))"
     ],
     "language": "python",
     "metadata": {},
     "outputs": [],
     "prompt_number": 6
    },
    {
     "cell_type": "code",
     "collapsed": false,
     "input": [
      "# howto use the LDA\n",
      "clf = LDA()\n",
      "# split your data into training and test set\n",
      "# See also: cross validation\n",
      "# train your classifier\n",
      "clf.fit(train, train_labels)\n",
      "# predict your data\n",
      "# clf.predict(data)\n",
      "# get the accuracy for known data\n",
      "print 'LDA Classification Accuracy: %.2f' % clf.score(test, test_labels)"
     ],
     "language": "python",
     "metadata": {},
     "outputs": [
      {
       "output_type": "stream",
       "stream": "stdout",
       "text": [
        "LDA Classification Accuracy: 0.76\n"
       ]
      }
     ],
     "prompt_number": 7
    },
    {
     "cell_type": "code",
     "collapsed": false,
     "input": [
      "# Just for the Lulz: QDA\n",
      "clf = KNeighborsClassifier()\n",
      "clf.fit(train, train_labels)\n",
      "print 'KNN Classification Accuracy: %.2f' % clf.score(test, test_labels)"
     ],
     "language": "python",
     "metadata": {},
     "outputs": [
      {
       "output_type": "stream",
       "stream": "stdout",
       "text": [
        "KNN Classification Accuracy: 0.81\n"
       ]
      }
     ],
     "prompt_number": 8
    },
    {
     "cell_type": "markdown",
     "metadata": {},
     "source": [
      "## Cross Validation\n",
      "\n",
      "Here we test the 10-fold cross validation for the jumping means-based classification. The `stratified` means that we make sure the percentage of classes is preserved in the test and training sets."
     ]
    },
    {
     "cell_type": "code",
     "collapsed": false,
     "input": [
      "skf = cross_validation.StratifiedKFold(fv.axes[0], 10)\n",
      "for train_i, test_i in skf:\n",
      "    train = fv.data[train_i]\n",
      "    train_labels = fv.axes[0][train_i]\n",
      "    test = fv.data[test_i]\n",
      "    test_labels = fv.axes[0][test_i]\n",
      "    clf_lda, clf_knn = LDA(), KNeighborsClassifier()\n",
      "    clf_lda.fit(train, train_labels)\n",
      "    clf_knn.fit(train, train_labels)\n",
      "    print 'LDA/KNN Classification Accuracy: %.2f/%.2f' % (clf_lda.score(test, test_labels), clf_knn.score(test, test_labels))"
     ],
     "language": "python",
     "metadata": {},
     "outputs": [
      {
       "output_type": "stream",
       "stream": "stdout",
       "text": [
        "LDA/KNN Classification Accuracy: 0.77/0.79\n",
        "LDA/KNN Classification Accuracy: 0.88/0.80\n",
        "LDA/KNN Classification Accuracy: 0.79/0.79"
       ]
      },
      {
       "output_type": "stream",
       "stream": "stdout",
       "text": [
        "\n",
        "LDA/KNN Classification Accuracy: 0.78/0.82"
       ]
      },
      {
       "output_type": "stream",
       "stream": "stdout",
       "text": [
        "\n",
        "LDA/KNN Classification Accuracy: 0.80/0.82"
       ]
      },
      {
       "output_type": "stream",
       "stream": "stdout",
       "text": [
        "\n",
        "LDA/KNN Classification Accuracy: 0.83/0.82"
       ]
      },
      {
       "output_type": "stream",
       "stream": "stdout",
       "text": [
        "\n",
        "LDA/KNN Classification Accuracy: 0.73/0.77"
       ]
      },
      {
       "output_type": "stream",
       "stream": "stdout",
       "text": [
        "\n",
        "LDA/KNN Classification Accuracy: 0.80/0.80"
       ]
      },
      {
       "output_type": "stream",
       "stream": "stdout",
       "text": [
        "\n",
        "LDA/KNN Classification Accuracy: 0.79/0.83"
       ]
      },
      {
       "output_type": "stream",
       "stream": "stdout",
       "text": [
        "\n",
        "LDA/KNN Classification Accuracy: 0.82/0.78"
       ]
      },
      {
       "output_type": "stream",
       "stream": "stdout",
       "text": [
        "\n"
       ]
      }
     ],
     "prompt_number": 9
    },
    {
     "cell_type": "code",
     "collapsed": false,
     "input": [],
     "language": "python",
     "metadata": {},
     "outputs": []
    }
   ],
   "metadata": {}
  }
 ]
}