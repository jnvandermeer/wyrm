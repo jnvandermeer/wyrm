{
 "cells": [
  {
   "cell_type": "code",
   "execution_count": 1,
   "metadata": {
    "collapsed": false,
    "deletable": true,
    "editable": true
   },
   "outputs": [
    {
     "name": "stdout",
     "output_type": "stream",
     "text": [
      "/media/data/Dropbox/Prog/python/Import/wyrm\n"
     ]
    }
   ],
   "source": [
    "cd /media/data/Dropbox/Prog/python/Import/wyrm/"
   ]
  },
  {
   "cell_type": "code",
   "execution_count": 2,
   "metadata": {
    "collapsed": false,
    "deletable": true,
    "editable": true
   },
   "outputs": [
    {
     "name": "stdout",
     "output_type": "stream",
     "text": [
      "\u001b[0m\u001b[01;34mbuild\u001b[0m/            test_plot_channels_cnt.jpg\r\n",
      "\u001b[01;34mdoc\u001b[0m/              test_plot_channels_epo.jpg\r\n",
      "\u001b[01;34mexamples\u001b[0m/         test_plot_scalp.jpg\r\n",
      "foo.marker        test_plot_scalp_ti.jpg\r\n",
      "LICENSE           test_plot_spatio_temporal_r2_values.jpg\r\n",
      "Makefile          test_plot_spectrogram.jpg\r\n",
      "README.md         test_plot_tenten.jpg\r\n",
      "requirements.txt  test_plot_timeinterval.jpg\r\n",
      "setup.py          THANKS\r\n",
      "\u001b[01;34mtest\u001b[0m/             TODO\r\n",
      "\u001b[01;34mTestData\u001b[0m/         \u001b[01;34mwyrm\u001b[0m/\r\n"
     ]
    }
   ],
   "source": [
    "ls"
   ]
  },
  {
   "cell_type": "code",
   "execution_count": 3,
   "metadata": {
    "collapsed": false,
    "deletable": true,
    "editable": true
   },
   "outputs": [
    {
     "name": "stdout",
     "output_type": "stream",
     "text": [
      "'BCI Competition 3, Data Set 1 (motor imagery in ECoG recordings).ipynb'\r\n",
      "'BCI Competition 3, Data Set 2 (P300 Speller).ipynb'\r\n",
      " desc_II_data.pdf\r\n",
      "'ERP Analysis.ipynb'\r\n",
      "'ERP Classification.ipynb'\r\n",
      "'MI Analysis.ipynb'\r\n",
      " online_experiment.ipynb\r\n",
      " \u001b[0m\u001b[01;32monline_experiment.py\u001b[0m*\r\n",
      " output_online_experiment.txt\r\n",
      " \u001b[01;32mperformance.py\u001b[0m*\r\n",
      " Untitled.ipynb\r\n"
     ]
    }
   ],
   "source": [
    "ls examples/"
   ]
  },
  {
   "cell_type": "code",
   "execution_count": 4,
   "metadata": {
    "collapsed": true,
    "deletable": true,
    "editable": true
   },
   "outputs": [],
   "source": [
    "#!/usr/bin/env python\n",
    "\n",
    "\n",
    "from __future__ import division\n",
    "\n",
    "import sys\n",
    "import time\n",
    "import logging\n",
    "\n",
    "import numpy as np\n"
   ]
  },
  {
   "cell_type": "code",
   "execution_count": 5,
   "metadata": {
    "collapsed": true,
    "deletable": true,
    "editable": true
   },
   "outputs": [],
   "source": [
    "# change this to the path of mushu if you don't have it in your\n",
    "# PYTHONPATH already\n",
    "sys.path.append('../mushu')\n",
    "# sys.path.append('')\n",
    "\n",
    "import libmushu\n",
    "from wyrm.types import RingBuffer\n",
    "import wyrm.processing as proc\n",
    "from wyrm import io"
   ]
  },
  {
   "cell_type": "code",
   "execution_count": 7,
   "metadata": {
    "collapsed": true,
    "deletable": true,
    "editable": true
   },
   "outputs": [],
   "source": [
    "\n",
    "\n",
    "\n",
    "\n",
    "logging.basicConfig(format='%(relativeCreated)10.0f %(threadName)-10s %(name)-10s %(levelname)8s %(message)s', level=logging.NOTSET)\n",
    "logger = logging.getLogger(__name__)\n",
    "\n",
    "# replay the experiment in real time?\n",
    "REALTIME = False\n",
    "\n",
    "\n",
    "TRAIN_DATA = 'TestData/II/BCI_Comp_III_Wads_2004/Subject_A_Train.mat'\n",
    "TEST_DATA = 'TestData/II/BCI_Comp_III_Wads_2004/Subject_A_Test.mat'\n",
    "\n",
    "CHANNEL_DATA = 'TestData/II/BCI_Comp_III_Wads_2004/eloc64.txt'\n",
    "\n",
    "TRUE_LABELS = \"WQXPLZCOMRKO97YFZDEZ1DPI9NNVGRQDJCUVRMEUOOOJD2UFYPOO6J7LDGYEGOA5VHNEHBTXOO1TDOILUEE5BFAEEXAW_K4R3MRU\"\n",
    "\n",
    "STIMULUS_CODE = {\n",
    "    # cols from left to right\n",
    "    1 : \"agmsy5\",\n",
    "    2 : \"bhntz6\",\n",
    "    3 : \"ciou17\",\n",
    "    4 : \"djpv28\",\n",
    "    5 : \"ekqw39\",\n",
    "    6 : \"flrx4_\",\n",
    "    # rows from top to bottom\n",
    "    7 : \"abcdef\",\n",
    "    8 : \"ghijkl\",\n",
    "    9 : \"mnopqr\",\n",
    "    10: \"stuvwx\",\n",
    "    11: \"yz1234\",\n",
    "    12: \"56789_\"\n",
    "}\n",
    "\n",
    "MARKER_DEF_TRAIN = {'target': ['target'], 'nontarget': ['nontarget']}\n",
    "MARKER_DEF_TEST = {i : [i] for i in STIMULUS_CODE.values()}\n",
    "\n",
    "JUMPING_MEANS_IVALS = [150, 220], [200, 260], [310, 360], [550, 660] # 91%\n",
    "\n",
    "SEG_IVAL = [0, 700]\n",
    "\n"
   ]
  },
  {
   "cell_type": "code",
   "execution_count": null,
   "metadata": {
    "collapsed": true,
    "deletable": true,
    "editable": true
   },
   "outputs": [],
   "source": []
  },
  {
   "cell_type": "code",
   "execution_count": 19,
   "metadata": {
    "collapsed": true,
    "deletable": true,
    "editable": true
   },
   "outputs": [],
   "source": [
    "\n",
    "def online_experiment(amp, cfy):\n",
    "    amp_fs = amp.get_sampling_frequency()\n",
    "    amp_channels = amp.get_channels()\n",
    "\n",
    "    #buf = BlockBuffer(4)\n",
    "    rb = RingBuffer(5000)\n",
    "\n",
    "    fn = amp_fs / 2\n",
    "    b_low, a_low = proc.signal.butter(5, [30 / fn], btype='low')\n",
    "    b_high, a_high = proc.signal.butter(5, [.4 / fn], btype='high')\n",
    "\n",
    "    zi_low = proc.lfilter_zi(b_low, a_low, len(amp_channels))\n",
    "    zi_high = proc.lfilter_zi(b_high, a_high, len(amp_channels))\n",
    "\n",
    "    amp.start()\n",
    "    markers_processed = 0\n",
    "    current_letter_idx = 0\n",
    "    current_letter = TRUE_LABELS[current_letter_idx].lower()\n",
    "\n",
    "    letter_prob = {i : 0 for i in 'abcdefghijklmnopqrstuvwxyz123456789_'}\n",
    "    endresult = []\n",
    "    t0 = time.time()\n",
    "    while True:\n",
    "        t0 = time.time()\n",
    "\n",
    "        # get fresh data from the amp\n",
    "        data, markers = amp.get_data()\n",
    "        if len(data) == 0:\n",
    "            continue\n",
    "\n",
    "        # we should rather wait for a specific end-of-experiment marker\n",
    "        if len(data) == 0:\n",
    "            break\n",
    "\n",
    "        # convert to cnt\n",
    "        cnt = io.convert_mushu_data(data, markers, amp_fs, amp_channels)\n",
    "\n",
    "        ## enter the block buffer\n",
    "        #buf.append(cnt)\n",
    "        #cnt = buf.get()\n",
    "        #if not cnt:\n",
    "        #    continue\n",
    "\n",
    "        # band-pass and subsample\n",
    "        cnt, zi_low = proc.lfilter(cnt, b_low, a_low, zi=zi_low)\n",
    "        cnt, zi_high = proc.lfilter(cnt, b_high, a_high, zi=zi_high)\n",
    "\n",
    "        cnt = proc.subsample(cnt, 60)\n",
    "\n",
    "        newsamples = cnt.data.shape[0]\n",
    "        # enter the ringbuffer\n",
    "        rb.append(cnt)\n",
    "        cnt = rb.get()\n",
    "\n",
    "        # segment\n",
    "        epo = proc.segment_dat(cnt, MARKER_DEF_TEST, SEG_IVAL, newsamples=newsamples)\n",
    "        if not epo:\n",
    "            continue\n",
    "\n",
    "        fv = proc.jumping_means(epo, JUMPING_MEANS_IVALS)\n",
    "        fv = proc.create_feature_vectors(fv)\n",
    "        logger.debug(markers_processed)\n",
    "\n",
    "        lda_out = proc.lda_apply(fv, cfy)\n",
    "        markers = [fv.class_names[cls_idx] for cls_idx in fv.axes[0]]\n",
    "        result = zip(markers, lda_out)\n",
    "        for s, score in result:\n",
    "            if markers_processed == 180:\n",
    "                endresult.append(sorted(letter_prob.items(), key=lambda x: x[1])[-1][0])\n",
    "                letter_prob = {i : 0 for i in 'abcdefghijklmnopqrstuvwxyz123456789_'}\n",
    "                markers_processed = 0\n",
    "                current_letter_idx += 1\n",
    "                current_letter = TRUE_LABELS[current_letter_idx].lower()\n",
    "            for letter in s:\n",
    "                letter_prob[letter] += score\n",
    "            markers_processed += 1\n",
    "        logger.debug(\"\".join([i[0] for i in sorted(letter_prob.items(), key=lambda x: x[1], reverse=True)]).replace(current_letter, \" %s \" % current_letter))\n",
    "        logger.debug(TRUE_LABELS)\n",
    "        logger.debug(\"\".join(endresult))\n",
    "        # calculate the current accuracy\n",
    "        if len(endresult) > 0:\n",
    "            acc = np.count_nonzero(np.array(endresult) == np.array(list(TRUE_LABELS.lower()[:len(endresult)]))) / len(endresult)\n",
    "            print \"Current accuracy:\", acc * 100\n",
    "        if len(endresult) == len(TRUE_LABELS):\n",
    "            break\n",
    "        #logger.debug(\"Result: %s\" % result)\n",
    "        print 1000 * (time.time() - t0)\n",
    "\n",
    "    acc = np.count_nonzero(np.array(endresult) == np.array(list(TRUE_LABELS.lower()[:len(endresult)]))) / len(endresult)\n",
    "    print \"Accuracy:\", acc * 100\n",
    "\n",
    "    amp.stop()\n",
    "\n"
   ]
  },
  {
   "cell_type": "code",
   "execution_count": 20,
   "metadata": {
    "collapsed": true,
    "deletable": true,
    "editable": true
   },
   "outputs": [],
   "source": [
    "\n",
    "def train(filename):\n",
    "    cnt = io.load_bcicomp3_ds2(filename)\n",
    "\n",
    "    fs_n = cnt.fs / 2\n",
    "\n",
    "    b, a = proc.signal.butter(5, [30 / fs_n], btype='low')\n",
    "    cnt = proc.lfilter(cnt, b, a)\n",
    "\n",
    "    b, a = proc.signal.butter(5, [.4 / fs_n], btype='high')\n",
    "    cnt = proc.lfilter(cnt, b, a)\n",
    "\n",
    "    cnt = proc.subsample(cnt, 60)\n",
    "\n",
    "    epo = proc.segment_dat(cnt, MARKER_DEF_TRAIN, SEG_IVAL)\n",
    "\n",
    "    #from wyrm import plot\n",
    "    #plot.plot_spatio_temporal_r2_values(proc.sort_channels(epo))\n",
    "    #print JUMPING_MEANS_IVALS\n",
    "    #plot.plt.show()\n",
    "\n",
    "    fv = proc.jumping_means(epo, JUMPING_MEANS_IVALS)\n",
    "    fv = proc.create_feature_vectors(fv)\n",
    "\n",
    "    cfy = proc.lda_train(fv)\n",
    "    return cfy\n"
   ]
  },
  {
   "cell_type": "code",
   "execution_count": 8,
   "metadata": {
    "collapsed": true,
    "deletable": true,
    "editable": true
   },
   "outputs": [],
   "source": []
  },
  {
   "cell_type": "code",
   "execution_count": 6,
   "metadata": {
    "collapsed": false,
    "deletable": true,
    "editable": true
   },
   "outputs": [
    {
     "ename": "NameError",
     "evalue": "name 'TRAIN_DATA' is not defined",
     "output_type": "error",
     "traceback": [
      "\u001b[0;31m---------------------------------------------------------------------------\u001b[0m",
      "\u001b[0;31mNameError\u001b[0m                                 Traceback (most recent call last)",
      "\u001b[0;32m<ipython-input-6-a3b8e154bd57>\u001b[0m in \u001b[0;36m<module>\u001b[0;34m()\u001b[0m\n\u001b[0;32m----> 1\u001b[0;31m \u001b[0mTRAIN_DATA\u001b[0m\u001b[0;34m\u001b[0m\u001b[0m\n\u001b[0m",
      "\u001b[0;31mNameError\u001b[0m: name 'TRAIN_DATA' is not defined"
     ]
    }
   ],
   "source": []
  },
  {
   "cell_type": "code",
   "execution_count": 21,
   "metadata": {
    "collapsed": false,
    "deletable": true,
    "editable": true
   },
   "outputs": [
    {
     "name": "stderr",
     "output_type": "stream",
     "text": [
      "DEBUG:__main__:Training...\n",
      "WARNING:wyrm.processing:Subsampling led to loss of 2 samples, in an online setting consider using a BlockBuffer with a buffer size of a multiple of 4 samples.\n"
     ]
    }
   ],
   "source": [
    "logger.debug('Training...')\n",
    "cfy = train(TRAIN_DATA)"
   ]
  },
  {
   "cell_type": "code",
   "execution_count": 23,
   "metadata": {
    "collapsed": false,
    "deletable": true,
    "editable": true
   },
   "outputs": [
    {
     "data": {
      "text/plain": [
       "(array([  1.54514596e-02,   1.76694111e-02,   4.90852946e-03,\n",
       "         -1.45513628e-02,  -7.62275416e-03,   3.83545302e-02,\n",
       "         -2.90049379e-02,   2.56804992e-03,  -1.04432167e-02,\n",
       "          9.69985681e-03,  -6.67797674e-03,   1.08654463e-02,\n",
       "         -2.94367463e-03,  -1.03315660e-02,   1.62394143e-04,\n",
       "          7.45730445e-03,  -1.01887868e-02,  -9.17934689e-03,\n",
       "         -2.15850734e-02,   2.16196137e-02,   1.03426632e-02,\n",
       "          3.79388207e-03,  -7.56718843e-04,   1.39559145e-02,\n",
       "          2.68380016e-03,  -2.35456349e-02,  -1.43948935e-02,\n",
       "          1.28863949e-02,  -2.30317474e-02,  -1.05189970e-02,\n",
       "         -3.96679695e-03,   5.19968833e-03,   4.66323454e-02,\n",
       "         -4.41702787e-02,   2.34538334e-02,   2.56753676e-02,\n",
       "         -3.92052667e-04,   4.28023918e-03,  -1.52834425e-02,\n",
       "         -4.03186060e-03,  -1.04150239e-02,  -1.13589401e-02,\n",
       "          2.05316321e-04,  -1.89492084e-02,  -8.17597698e-03,\n",
       "          1.80687926e-02,  -2.96585129e-03,   6.53228069e-03,\n",
       "          1.03033110e-02,   1.62145139e-02,  -2.36207839e-01,\n",
       "         -9.40177798e-03,   8.47019882e-03,   1.79066615e-02,\n",
       "          2.83816237e-02,   3.98513386e-02,   3.34361677e-02,\n",
       "         -4.43114238e-02,   1.50904360e-02,   3.95269560e-02,\n",
       "          4.27732437e-02,   3.38387933e-02,   2.92796679e-02,\n",
       "         -1.56368953e-02,  -1.31768265e-02,  -2.64198636e-02,\n",
       "         -6.21566637e-03,   2.22739337e-02,   6.17969249e-03,\n",
       "         -2.26002099e-02,   3.13996406e-02,   8.02876488e-03,\n",
       "          2.95591980e-02,  -1.03391135e-02,  -5.74816219e-03,\n",
       "         -1.08390929e-02,   1.73717891e-03,   1.13838965e-02,\n",
       "          2.59285400e-02,  -2.32870036e-03,   1.08685592e-02,\n",
       "         -3.41999924e-03,  -4.70970499e-03,  -2.66821677e-02,\n",
       "         -3.42610017e-02,  -1.13236863e-02,   1.17035983e-02,\n",
       "         -2.33881919e-02,  -6.98401687e-03,   2.19312474e-02,\n",
       "          3.22246496e-02,   5.04360230e-03,   1.99093875e-02,\n",
       "          1.28674940e-02,  -4.02457765e-03,  -1.17281327e-02,\n",
       "         -9.46042438e-02,   5.09860418e-02,  -2.01306610e-02,\n",
       "         -1.91671360e-02,   4.61223666e-03,  -7.30456160e-03,\n",
       "          1.57907965e-02,   1.63512322e-03,   8.27270378e-03,\n",
       "          1.75193036e-02,  -3.44742272e-03,   9.60095103e-03,\n",
       "          8.06587644e-03,  -1.69562252e-02,  -1.33535236e-03,\n",
       "          1.28157313e-02,  -9.12015010e-03,  -1.59938586e-02,\n",
       "          2.66089010e-01,   1.18071468e-02,  -1.55701470e-02,\n",
       "         -3.00166065e-02,  -4.55495047e-02,  -2.62776833e-02,\n",
       "         -3.31219684e-02,   6.81052975e-02,  -1.33108713e-02,\n",
       "         -4.60254388e-02,  -5.46056696e-02,  -2.87447443e-02,\n",
       "         -2.56427016e-02,   1.25839588e-02,  -4.68408754e-03,\n",
       "          7.17545231e-03,   1.33521635e-02,  -1.42440404e-03,\n",
       "          3.51025231e-03,  -6.87162980e-03,  -5.47451312e-03,\n",
       "         -1.03075626e-02,  -2.34739419e-02,   1.14540557e-02,\n",
       "          2.27007096e-02,   5.42887412e-03,  -7.93729518e-03,\n",
       "         -3.14770999e-03,  -1.40207761e-02,  -1.00395942e-02,\n",
       "         -4.94366378e-03,   2.47069405e-02,   2.70939882e-02,\n",
       "          8.00587959e-03,   9.93134509e-03,   1.12320477e-02,\n",
       "         -2.85068517e-03,   1.82502536e-02,  -1.57828530e-03,\n",
       "          1.58203351e-03,  -1.47193434e-02,  -1.60747282e-02,\n",
       "         -1.02826314e-03,   1.69722167e-03,   1.17012937e-03,\n",
       "          1.25826285e-02,   2.65909179e-02,  -1.53985664e-02,\n",
       "         -3.93274368e-03,  -7.97952088e-03,  -2.90025047e-03,\n",
       "         -5.10333657e-03,  -6.27756743e-03,  -5.27849071e-03,\n",
       "         -1.80199956e-04,  -1.63494317e-02,   1.73468695e-02,\n",
       "          7.79397795e-03,   5.53411232e-04,   2.05292999e-03,\n",
       "         -1.58125796e-03,  -2.80244956e-02,  -9.21717100e-03,\n",
       "          1.26963245e-03,  -8.23455859e-03,  -1.80719871e-03,\n",
       "          9.31455128e-03,   2.18407107e-03,   1.09177877e-02,\n",
       "         -1.90132671e-02,  -6.63235864e-03,  -1.60092660e-02,\n",
       "          1.11798296e-03,  -2.43657310e-04,   1.50876066e-02,\n",
       "          5.37071284e-03,   1.11671175e-04,  -5.65131319e-03,\n",
       "         -3.74989257e-03,  -4.51945320e-03,  -3.10695823e-02,\n",
       "         -1.00915370e-02,   1.31788119e-02,  -2.65738243e-04,\n",
       "          3.10781738e-03,   1.32907171e-02,   7.83098791e-03,\n",
       "         -1.38129762e-02,  -3.37178582e-02,   6.12421574e-03,\n",
       "          5.05081485e-03,   5.44065569e-03,   2.19072588e-02,\n",
       "          1.57456871e-02,   4.89399948e-03,  -4.48750647e-02,\n",
       "         -1.55739588e-02,   4.29375503e-03,   6.32021026e-03,\n",
       "         -1.88543117e-02,  -8.63407634e-03,   5.49571107e-03,\n",
       "          3.15021065e-03,  -6.18344567e-03,   7.21518681e-03,\n",
       "          7.80454865e-03,  -2.02928174e-03,  -3.46415200e-03,\n",
       "          7.10319191e-03,  -1.40251933e-02,   4.97950993e-06,\n",
       "          2.67790553e-03,  -5.11182891e-03,   2.18969033e-03,\n",
       "          8.79578120e-03,   6.78127758e-03,   2.19214054e-03,\n",
       "         -3.62257291e-03,   1.36130873e-03,   8.44905823e-03,\n",
       "         -6.75530247e-03,  -7.08740077e-03,   8.21352483e-03,\n",
       "          1.37987809e-04,   1.25825550e-02,   2.23531302e-02,\n",
       "          1.22550303e-02,   8.86742106e-03,  -8.64472002e-02,\n",
       "         -2.79460412e-03,   3.75067932e-03,   9.80650479e-03,\n",
       "          8.49651720e-03,   3.48768404e-02,   5.48325982e-03,\n",
       "         -5.32570690e-04,  -3.31403998e-03,   7.36021563e-03,\n",
       "          7.63618850e-03,   4.62769659e-03,   3.10741268e-03,\n",
       "          1.08774628e-03]), -0.35719918923818367)"
      ]
     },
     "execution_count": 23,
     "metadata": {},
     "output_type": "execute_result"
    }
   ],
   "source": [
    "cfy"
   ]
  },
  {
   "cell_type": "code",
   "execution_count": 24,
   "metadata": {
    "collapsed": false,
    "deletable": true,
    "editable": true
   },
   "outputs": [
    {
     "name": "stderr",
     "output_type": "stream",
     "text": [
      "DEBUG:__main__:Starting Online experiment...\n"
     ]
    }
   ],
   "source": [
    "logger.debug('Starting Online experiment...')"
   ]
  },
  {
   "cell_type": "code",
   "execution_count": 26,
   "metadata": {
    "collapsed": true,
    "deletable": true,
    "editable": true,
    "scrolled": false
   },
   "outputs": [],
   "source": [
    "cnt = io.load_bcicomp3_ds2(TEST_DATA)"
   ]
  },
  {
   "cell_type": "code",
   "execution_count": 27,
   "metadata": {
    "collapsed": true,
    "deletable": true,
    "editable": true
   },
   "outputs": [],
   "source": [
    "amp = libmushu.get_amp('replayamp')"
   ]
  },
  {
   "cell_type": "code",
   "execution_count": 15,
   "metadata": {
    "collapsed": false,
    "deletable": true,
    "editable": true
   },
   "outputs": [],
   "source": [
    "av_amp = libmushu.get_available_amps()"
   ]
  },
  {
   "cell_type": "code",
   "execution_count": 16,
   "metadata": {
    "collapsed": false,
    "deletable": true,
    "editable": true
   },
   "outputs": [
    {
     "data": {
      "text/plain": [
       "['randomamp', 'sinusamp', 'replayamp']"
      ]
     },
     "execution_count": 16,
     "metadata": {},
     "output_type": "execute_result"
    }
   ],
   "source": [
    "av_amp"
   ]
  },
  {
   "cell_type": "code",
   "execution_count": 30,
   "metadata": {
    "collapsed": true,
    "deletable": true,
    "editable": true
   },
   "outputs": [],
   "source": [
    "amp.configure(data=cnt.data, marker=cnt.markers, channels=cnt.axes[-1], fs=cnt.fs, realtime=False, blocksize_samples=40)"
   ]
  },
  {
   "cell_type": "code",
   "execution_count": 17,
   "metadata": {
    "collapsed": true,
    "deletable": true,
    "editable": true
   },
   "outputs": [],
   "source": [
    "amp = libmushu.get_amp('replayamp')"
   ]
  },
  {
   "cell_type": "code",
   "execution_count": 19,
   "metadata": {
    "collapsed": false,
    "deletable": true,
    "editable": true
   },
   "outputs": [],
   "source": [
    "amp?"
   ]
  },
  {
   "cell_type": "code",
   "execution_count": null,
   "metadata": {
    "collapsed": true,
    "deletable": true,
    "editable": true
   },
   "outputs": [],
   "source": []
  }
 ],
 "metadata": {
  "kernelspec": {
   "display_name": "Python 2",
   "language": "python",
   "name": "python2"
  },
  "language_info": {
   "codemirror_mode": {
    "name": "ipython",
    "version": 2
   },
   "file_extension": ".py",
   "mimetype": "text/x-python",
   "name": "python",
   "nbconvert_exporter": "python",
   "pygments_lexer": "ipython2",
   "version": "2.7.13"
  }
 },
 "nbformat": 4,
 "nbformat_minor": 2
}
