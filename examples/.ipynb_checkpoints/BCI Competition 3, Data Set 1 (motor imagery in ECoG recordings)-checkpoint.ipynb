{
 "cells": [
  {
   "cell_type": "markdown",
   "metadata": {
    "deletable": true,
    "editable": true
   },
   "source": [
    "### Getting the Dataset\n",
    "\n",
    "This example uses the [Data Set 1][bcicomp3ds1] from the BCI Competition 3. After downloading and copying it into a directory called `data` next to this script, you should be able to follow this example.\n",
    "\n",
    "[bcicomp3ds1]: http://www.bbci.de/competition/iii/#data_set_i\n"
   ]
  },
  {
   "cell_type": "code",
   "execution_count": 1,
   "metadata": {
    "collapsed": false,
    "deletable": true,
    "editable": true
   },
   "outputs": [
    {
     "name": "stdout",
     "output_type": "stream",
     "text": [
      "/media/data/Dropbox/Prog/python/Import/wyrm\n"
     ]
    }
   ],
   "source": [
    "cd /media/data/Dropbox/Prog/python/Projects/wyrm/\n"
   ]
  },
  {
   "cell_type": "code",
   "execution_count": 2,
   "metadata": {
    "collapsed": false,
    "deletable": true,
    "editable": true
   },
   "outputs": [
    {
     "name": "stderr",
     "output_type": "stream",
     "text": [
      "/usr/lib/python2.7/site-packages/matplotlib/__init__.py:913: UserWarning: axes.color_cycle is deprecated and replaced with axes.prop_cycle; please use the latter.\n",
      "  warnings.warn(self.msg_depr % (key, alt_key))\n"
     ]
    }
   ],
   "source": [
    "from __future__ import division\n",
    "\n",
    "import numpy as np\n",
    "import scipy as sp\n",
    "from scipy.io import loadmat\n",
    "from matplotlib import pyplot as plt\n",
    "import matplotlib as mpl\n",
    "\n",
    "from wyrm import processing as proc\n",
    "from wyrm.types import Data\n",
    "from wyrm import plot\n",
    "from wyrm.io import load_bcicomp3_ds1\n",
    "plot.beautify()\n",
    "\n",
    "from matplotlib import pyplot as plt\n",
    "%matplotlib inline  "
   ]
  },
  {
   "cell_type": "code",
   "execution_count": 112,
   "metadata": {
    "collapsed": true,
    "deletable": true,
    "editable": true
   },
   "outputs": [],
   "source": [
    "DATA_DIR = 'TestData/'\n",
    "# TRUE_LABELS = 'TestData/Competition_train_lab.txt'\n",
    "# hmmm... I don't have these true labels, unfortunately."
   ]
  },
  {
   "cell_type": "code",
   "execution_count": 4,
   "metadata": {
    "collapsed": false,
    "deletable": true,
    "editable": true
   },
   "outputs": [],
   "source": [
    "# load test and training data\n",
    "dat_train, dat_test = load_bcicomp3_ds1(DATA_DIR)\n",
    "\n",
    "# load true labels\n",
    "true_labels = np.loadtxt(TRUE_LABELS).astype('int')\n",
    "# map labels -1 -> 0\n",
    "true_labels[true_labels == -1] = 0"
   ]
  },
  {
   "cell_type": "code",
   "execution_count": 5,
   "metadata": {
    "collapsed": false
   },
   "outputs": [
    {
     "data": {
      "text/plain": [
       "'TestData/Competition_train_lab.txt'"
      ]
     },
     "execution_count": 5,
     "metadata": {},
     "output_type": "execute_result"
    }
   ],
   "source": [
    "# TRUE_LABELS  hmmm..."
   ]
  },
  {
   "cell_type": "code",
   "execution_count": 6,
   "metadata": {
    "collapsed": true,
    "deletable": true,
    "editable": true
   },
   "outputs": [],
   "source": [
    "def plot_csp_pattern(a):\n",
    "    # get symmetric min/max values for the color bar from first and last column of the pattern\n",
    "    maxv = np.max(np.abs(a[:, [0, -1]]))\n",
    "    minv = -maxv\n",
    "    \n",
    "    im_args = {'interpolation' : 'None', \n",
    "           'vmin' : minv, \n",
    "           'vmax' : maxv\n",
    "           }\n",
    "\n",
    "    # plot\n",
    "    ax1 = plt.subplot2grid((1,11), (0,0), colspan=5)\n",
    "    ax2 = plt.subplot2grid((1,11), (0,5), colspan=5)\n",
    "    ax3 = plt.subplot2grid((1,11), (0,10))\n",
    "\n",
    "    ax1.imshow(a[:, 0].reshape(8, 8), **im_args)\n",
    "    ax1.set_title('Pinky')\n",
    "\n",
    "    ax = ax2.imshow(a[:, -1].reshape(8, 8), **im_args)\n",
    "    ax2.set_title('Tongue')\n",
    "\n",
    "    plt.colorbar(ax, cax=ax3)\n",
    "    plt.tight_layout()"
   ]
  },
  {
   "cell_type": "code",
   "execution_count": 7,
   "metadata": {
    "collapsed": true,
    "deletable": true,
    "editable": true
   },
   "outputs": [],
   "source": [
    "def preprocess(data, filt=None):\n",
    "    dat = data.copy()\n",
    "    fs_n = dat.fs / 2\n",
    "    \n",
    "    b, a = proc.signal.butter(5, [13 / fs_n], btype='low')\n",
    "    dat = proc.filtfilt(dat, b, a)\n",
    "    \n",
    "    b, a = proc.signal.butter(5, [9 / fs_n], btype='high')\n",
    "    dat = proc.filtfilt(dat, b, a)\n",
    "    \n",
    "    dat = proc.subsample(dat, 50)\n",
    "\n",
    "    if filt is None:\n",
    "        filt, pattern, _ = proc.calculate_csp(dat)\n",
    "        plot_csp_pattern(pattern)\n",
    "    dat = proc.apply_csp(dat, filt)\n",
    "    \n",
    "    dat = proc.variance(dat)\n",
    "    dat = proc.logarithm(dat)\n",
    "    return dat, filt"
   ]
  },
  {
   "cell_type": "code",
   "execution_count": 8,
   "metadata": {
    "collapsed": false
   },
   "outputs": [
    {
     "name": "stderr",
     "output_type": "stream",
     "text": [
      "WARNING:wyrm.misc:apply_csp is deprecated since version 1.1. Please use apply_spatial_filter instead.\n"
     ]
    },
    {
     "data": {
      "image/png": "[encoded data removed]",
      "text/plain": [
       "<matplotlib.figure.Figure at 0x7f61919e3fd0>"
      ]
     },
     "metadata": {},
     "output_type": "display_data"
    }
   ],
   "source": [
    "fv_train, filt = preprocess(dat_train)"
   ]
  },
  {
   "cell_type": "code",
   "execution_count": 9,
   "metadata": {
    "collapsed": false,
    "deletable": true,
    "editable": true
   },
   "outputs": [
    {
     "name": "stderr",
     "output_type": "stream",
     "text": [
      "WARNING:wyrm.misc:apply_csp is deprecated since version 1.1. Please use apply_spatial_filter instead.\n"
     ]
    }
   ],
   "source": [
    "fv_test, _ = preprocess(dat_test, filt)"
   ]
  },
  {
   "cell_type": "code",
   "execution_count": 33,
   "metadata": {
    "collapsed": false
   },
   "outputs": [
    {
     "data": {
      "text/plain": [
       "(100, 150, 64)"
      ]
     },
     "execution_count": 33,
     "metadata": {},
     "output_type": "execute_result"
    }
   ],
   "source": [
    "t = proc.subsample(dat_test, 50)\n",
    "\n",
    "t.data.shape"
   ]
  },
  {
   "cell_type": "code",
   "execution_count": 18,
   "metadata": {
    "collapsed": false
   },
   "outputs": [
    {
     "data": {
      "text/plain": [
       "array([[ 0.96858734,  0.1907635 ],\n",
       "       [ 0.6825755 ,  0.57384778],\n",
       "       [ 1.4182213 , -0.04620223],\n",
       "       [ 0.49883868, -0.93030077],\n",
       "       [ 1.19442692, -0.93536363],\n",
       "       [ 1.25398851, -0.62068494],\n",
       "       [ 0.85728495, -0.53742692],\n",
       "       [ 1.04490369, -0.47926516],\n",
       "       [ 0.50099083,  1.48696691],\n",
       "       [ 1.22443095, -0.32327331],\n",
       "       [ 0.34663986,  0.25440021],\n",
       "       [ 0.30918695,  0.63184752],\n",
       "       [ 0.53628709,  1.08551187],\n",
       "       [ 0.65966487, -1.43428038],\n",
       "       [ 0.46781128,  0.73239709],\n",
       "       [ 0.68982971,  0.73500287],\n",
       "       [ 1.28346808,  0.57138479],\n",
       "       [ 1.92113345, -0.36331682],\n",
       "       [ 0.86828062,  0.38434106],\n",
       "       [ 0.42593476,  0.54937623],\n",
       "       [ 0.68351664,  1.32533948],\n",
       "       [ 1.04962173, -0.37609991],\n",
       "       [ 1.6826668 , -1.38204803],\n",
       "       [ 0.74444619,  0.69784142],\n",
       "       [ 0.71673674,  0.80040706],\n",
       "       [ 1.30779957, -1.07734766],\n",
       "       [-0.24645104,  0.75661168],\n",
       "       [ 0.26126393,  0.86491104],\n",
       "       [ 1.57507896, -0.91914056],\n",
       "       [ 0.77675634,  0.05497676],\n",
       "       [ 0.29798438,  1.27613537],\n",
       "       [ 1.01547796, -0.80398527],\n",
       "       [ 0.33046712,  0.27056693],\n",
       "       [ 1.34101313, -0.24458703],\n",
       "       [ 1.10590605,  1.4004667 ],\n",
       "       [ 1.12673242,  0.30748103],\n",
       "       [ 1.16840616,  0.36087838],\n",
       "       [ 0.71876481,  0.87235945],\n",
       "       [-0.06877488, -1.58635344],\n",
       "       [ 0.76411746,  1.08944178],\n",
       "       [ 0.95479874,  1.11059545],\n",
       "       [ 1.05250987, -0.25029128],\n",
       "       [ 1.1810699 ,  1.10644523],\n",
       "       [ 1.28203926, -0.95945417],\n",
       "       [ 1.02409498,  0.72284892],\n",
       "       [ 1.28033685, -0.25045471],\n",
       "       [ 1.25180706, -0.04203642],\n",
       "       [ 1.28687242,  0.61480206],\n",
       "       [ 0.46621934,  0.85650101],\n",
       "       [ 1.3737808 , -1.38362972],\n",
       "       [ 1.15475288, -0.51464569],\n",
       "       [ 0.75365398, -0.37339109],\n",
       "       [ 0.15843177,  1.12104355],\n",
       "       [ 0.58539141, -0.9865367 ],\n",
       "       [ 0.79105298, -0.65944737],\n",
       "       [ 1.20513494, -0.57740352],\n",
       "       [ 0.68053598, -0.77277459],\n",
       "       [ 1.20401144, -0.29807752],\n",
       "       [ 0.28793221, -0.69959471],\n",
       "       [ 0.94921923, -1.16062602],\n",
       "       [ 0.60061463, -2.25409666],\n",
       "       [ 1.21084359, -0.86245468],\n",
       "       [ 1.69195901, -0.90099489],\n",
       "       [ 1.10518921, -0.80166823],\n",
       "       [ 0.48767036,  1.30210027],\n",
       "       [ 0.4208889 ,  0.06644281],\n",
       "       [ 0.75095856,  1.55658712],\n",
       "       [ 1.64418175, -0.65581119],\n",
       "       [ 0.7361161 ,  0.99947486],\n",
       "       [ 0.97986261, -0.35582928],\n",
       "       [ 0.77926513,  0.70513053],\n",
       "       [ 1.33773308, -1.71029659],\n",
       "       [ 0.68573396,  1.08828855],\n",
       "       [ 1.27588559, -0.76623689],\n",
       "       [ 0.12347275, -0.37136384],\n",
       "       [ 0.86557972,  1.00436444],\n",
       "       [ 0.43318142,  0.33128035],\n",
       "       [ 1.16729823,  0.26969332],\n",
       "       [ 0.67954631,  0.24764496],\n",
       "       [ 0.49767628,  1.06797264],\n",
       "       [ 1.32728971, -0.96699538],\n",
       "       [ 0.22192541,  0.54425933],\n",
       "       [ 1.32674887, -0.80716056],\n",
       "       [ 0.46766905,  1.41933016],\n",
       "       [ 0.2355423 ,  0.36577703],\n",
       "       [ 1.2125889 , -0.74587487],\n",
       "       [ 1.24673056, -0.62349924],\n",
       "       [ 1.76314206, -0.6811049 ],\n",
       "       [ 1.34236633, -0.88097896],\n",
       "       [ 1.21613313, -0.85752305],\n",
       "       [ 0.96942495, -0.64939716],\n",
       "       [ 1.47021474, -0.47519604],\n",
       "       [ 0.39324782,  0.96507865],\n",
       "       [ 1.81440353, -0.82657121],\n",
       "       [ 0.69130426, -1.36772559],\n",
       "       [ 1.2932272 ,  0.4583779 ],\n",
       "       [ 1.15069384, -1.13209957],\n",
       "       [ 0.85085698, -0.26522887],\n",
       "       [ 0.64173309,  0.46403143],\n",
       "       [ 0.71070091,  0.88670044]])"
      ]
     },
     "execution_count": 18,
     "metadata": {},
     "output_type": "execute_result"
    }
   ],
   "source": [
    "fv_test.data"
   ]
  },
  {
   "cell_type": "code",
   "execution_count": 57,
   "metadata": {
    "collapsed": false
   },
   "outputs": [
    {
     "data": {
      "text/plain": [
       "[<matplotlib.lines.Line2D at 0x7f6190c04490>]"
      ]
     },
     "execution_count": 57,
     "metadata": {},
     "output_type": "execute_result"
    },
    {
     "data": {
      "image/png": "[encoded data removed]",
      "text/plain": [
       "<matplotlib.figure.Figure at 0x7f61907f2fd0>"
      ]
     },
     "metadata": {},
     "output_type": "display_data"
    }
   ],
   "source": [
    "plt.plot(fv_test.data[:,0],fv_test.data[:,1],'o')"
   ]
  },
  {
   "cell_type": "code",
   "execution_count": 24,
   "metadata": {
    "collapsed": false
   },
   "outputs": [
    {
     "data": {
      "text/plain": [
       "(64, 64)"
      ]
     },
     "execution_count": 24,
     "metadata": {},
     "output_type": "execute_result"
    }
   ],
   "source": [
    "filt.shape"
   ]
  },
  {
   "cell_type": "code",
   "execution_count": 106,
   "metadata": {
    "collapsed": false,
    "deletable": true,
    "editable": true
   },
   "outputs": [
    {
     "data": {
      "text/plain": [
       "[(1.0, 0),\n",
       " (1.0, 1),\n",
       " (0.0, 0),\n",
       " (0.0, 0),\n",
       " (0.0, 1),\n",
       " (0.0, 1),\n",
       " (0.0, 1),\n",
       " (0.0, 0),\n",
       " (1.0, 1),\n",
       " (0.0, 0),\n",
       " (1.0, 0),\n",
       " (1.0, 0),\n",
       " (1.0, 1),\n",
       " (0.0, 0),\n",
       " (1.0, 1),\n",
       " (1.0, 0),\n",
       " (1.0, 1),\n",
       " (0.0, 1),\n",
       " (1.0, 0),\n",
       " (1.0, 1),\n",
       " (1.0, 0),\n",
       " (0.0, 0),\n",
       " (0.0, 1),\n",
       " (1.0, 0),\n",
       " (1.0, 0),\n",
       " (0.0, 1),\n",
       " (1.0, 1),\n",
       " (1.0, 1),\n",
       " (0.0, 0),\n",
       " (1.0, 0),\n",
       " (1.0, 0),\n",
       " (0.0, 0),\n",
       " (1.0, 1),\n",
       " (0.0, 0),\n",
       " (1.0, 1),\n",
       " (1.0, 0),\n",
       " (1.0, 1),\n",
       " (1.0, 1),\n",
       " (0.0, 0),\n",
       " (1.0, 0),\n",
       " (1.0, 0),\n",
       " (0.0, 0),\n",
       " (1.0, 1),\n",
       " (0.0, 0),\n",
       " (1.0, 1),\n",
       " (0.0, 1),\n",
       " (0.0, 0),\n",
       " (1.0, 0),\n",
       " (1.0, 1),\n",
       " (0.0, 1),\n",
       " (0.0, 1),\n",
       " (0.0, 0),\n",
       " (1.0, 0),\n",
       " (0.0, 0),\n",
       " (0.0, 1),\n",
       " (0.0, 0),\n",
       " (0.0, 1),\n",
       " (0.0, 0),\n",
       " (1.0, 1),\n",
       " (0.0, 0),\n",
       " (0.0, 0),\n",
       " (0.0, 1),\n",
       " (0.0, 1),\n",
       " (0.0, 0),\n",
       " (1.0, 0),\n",
       " (1.0, 1),\n",
       " (1.0, 1),\n",
       " (0.0, 0),\n",
       " (1.0, 0),\n",
       " (0.0, 1),\n",
       " (1.0, 0),\n",
       " (0.0, 0),\n",
       " (1.0, 1),\n",
       " (0.0, 1),\n",
       " (1.0, 0),\n",
       " (1.0, 0),\n",
       " (1.0, 0),\n",
       " (0.0, 0),\n",
       " (1.0, 1),\n",
       " (1.0, 1),\n",
       " (0.0, 0),\n",
       " (1.0, 1),\n",
       " (0.0, 1),\n",
       " (1.0, 1),\n",
       " (1.0, 0),\n",
       " (0.0, 1),\n",
       " (0.0, 1),\n",
       " (0.0, 0),\n",
       " (0.0, 1),\n",
       " (0.0, 1),\n",
       " (0.0, 1),\n",
       " (0.0, 0),\n",
       " (1.0, 1),\n",
       " (0.0, 0),\n",
       " (0.0, 1),\n",
       " (0.0, 1),\n",
       " (0.0, 1),\n",
       " (0.0, 1),\n",
       " (1.0, 0),\n",
       " (1.0, 0)]"
      ]
     },
     "execution_count": 106,
     "metadata": {},
     "output_type": "execute_result"
    }
   ],
   "source": [
    "cfy = proc.lda_train(fv_train)\n",
    "result = proc.lda_apply(fv_test, cfy)\n",
    "result = (np.sign(result) + 1) / 2\n",
    "\n",
    "result\n",
    "# print 'LDA Accuracy %.2f%%' % ((result == true_labels).sum() / len(result))\n",
    "true_labels\n",
    "zip(result, true_labels)"
   ]
  },
  {
   "cell_type": "code",
   "execution_count": 77,
   "metadata": {
    "collapsed": false
   },
   "outputs": [
    {
     "data": {
      "text/plain": [
       "[<matplotlib.lines.Line2D at 0x7f6190621090>]"
      ]
     },
     "execution_count": 77,
     "metadata": {},
     "output_type": "execute_result"
    },
    {
     "data": {
      "image/png": "[encoded data removed]",
      "text/plain": [
       "<matplotlib.figure.Figure at 0x7f6190621110>"
      ]
     },
     "metadata": {},
     "output_type": "display_data"
    }
   ],
   "source": [
    "#print np.nonzero(result)\n",
    "plt.plot(fv_test.data[np.nonzero(result),0].squeeze(),fv_test.data[np.nonzero(result),1].squeeze(),'o')\n",
    "plt.plot(fv_test.data[np.nonzero(result-1),0].squeeze(),fv_test.data[np.nonzero(result-1),1].squeeze(),'o')\n",
    "\n"
   ]
  },
  {
   "cell_type": "code",
   "execution_count": 91,
   "metadata": {
    "collapsed": false,
    "deletable": true,
    "editable": true
   },
   "outputs": [
    {
     "data": {
      "text/plain": [
       "[<matplotlib.lines.Line2D at 0x7f6190a90c50>]"
      ]
     },
     "execution_count": 91,
     "metadata": {},
     "output_type": "execute_result"
    },
    {
     "data": {
      "image/png": "[encoded data removed]",
      "text/plain": [
       "<matplotlib.figure.Figure at 0x7f61905d62d0>"
      ]
     },
     "metadata": {},
     "output_type": "display_data"
    }
   ],
   "source": [
    "plt.plot(fv_train.data[np.nonzero(dat_train.axes[0]),0].squeeze(),fv_train.data[np.nonzero(dat_train.axes[0]),1].squeeze(),'o')\n",
    "plt.plot(fv_train.data[np.nonzero(dat_train.axes[0]-1),0].squeeze(),fv_train.data[np.nonzero(dat_train.axes[0]-1),1].squeeze(),'o')"
   ]
  },
  {
   "cell_type": "code",
   "execution_count": 96,
   "metadata": {
    "collapsed": false,
    "deletable": true,
    "editable": true
   },
   "outputs": [],
   "source": [
    "t=[x == y for (x,y) in zip(result,true_labels)]"
   ]
  },
  {
   "cell_type": "code",
   "execution_count": 111,
   "metadata": {
    "collapsed": false
   },
   "outputs": [
    {
     "data": {
      "text/plain": [
       "[(0, 0),\n",
       " (1, 1),\n",
       " (0, 0),\n",
       " (0, 0),\n",
       " (1, 1),\n",
       " (1, 1),\n",
       " (1, 1),\n",
       " (0, 0),\n",
       " (1, 1),\n",
       " (0, 0),\n",
       " (0, 0),\n",
       " (0, 0),\n",
       " (1, 1),\n",
       " (0, 0),\n",
       " (1, 1),\n",
       " (0, 0),\n",
       " (1, 1),\n",
       " (1, 1),\n",
       " (0, 0),\n",
       " (1, 1),\n",
       " (0, 0),\n",
       " (0, 0),\n",
       " (1, 1),\n",
       " (0, 0),\n",
       " (0, 0),\n",
       " (1, 1),\n",
       " (1, 1),\n",
       " (1, 1),\n",
       " (0, 0),\n",
       " (0, 0),\n",
       " (0, 0),\n",
       " (0, 0),\n",
       " (1, 1),\n",
       " (0, 0),\n",
       " (1, 1),\n",
       " (0, 0),\n",
       " (1, 1),\n",
       " (1, 1),\n",
       " (0, 0),\n",
       " (0, 0),\n",
       " (0, 0),\n",
       " (0, 0),\n",
       " (1, 1),\n",
       " (0, 0),\n",
       " (1, 1),\n",
       " (1, 1),\n",
       " (0, 0),\n",
       " (0, 0),\n",
       " (1, 1),\n",
       " (1, 1),\n",
       " (1, 1),\n",
       " (0, 0),\n",
       " (0, 0),\n",
       " (0, 0),\n",
       " (1, 1),\n",
       " (0, 0),\n",
       " (1, 1),\n",
       " (0, 0),\n",
       " (1, 1),\n",
       " (0, 0),\n",
       " (0, 0),\n",
       " (1, 1),\n",
       " (1, 1),\n",
       " (0, 0),\n",
       " (0, 0),\n",
       " (1, 1),\n",
       " (1, 1),\n",
       " (0, 0),\n",
       " (0, 0),\n",
       " (1, 1),\n",
       " (0, 0),\n",
       " (0, 0),\n",
       " (1, 1),\n",
       " (1, 1),\n",
       " (0, 0),\n",
       " (0, 0),\n",
       " (0, 0),\n",
       " (0, 0),\n",
       " (1, 1),\n",
       " (1, 1),\n",
       " (0, 0),\n",
       " (1, 1),\n",
       " (1, 1),\n",
       " (1, 1),\n",
       " (0, 0),\n",
       " (1, 1),\n",
       " (1, 1),\n",
       " (0, 0),\n",
       " (1, 1),\n",
       " (1, 1),\n",
       " (1, 1),\n",
       " (0, 0),\n",
       " (1, 1),\n",
       " (0, 0),\n",
       " (1, 1),\n",
       " (1, 1),\n",
       " (1, 1),\n",
       " (1, 1),\n",
       " (0, 0),\n",
       " (0, 0),\n",
       " (0, 0),\n",
       " (0, 0),\n",
       " (1, 1),\n",
       " (0, 0),\n",
       " (0, 0),\n",
       " (1, 1),\n",
       " (1, 1),\n",
       " (0, 0),\n",
       " (0, 0),\n",
       " (1, 1),\n",
       " (1, 1),\n",
       " (1, 1),\n",
       " (0, 0),\n",
       " (0, 0),\n",
       " (0, 0),\n",
       " (0, 0),\n",
       " (0, 0),\n",
       " (1, 1),\n",
       " (1, 1),\n",
       " (1, 1),\n",
       " (1, 1),\n",
       " (0, 0),\n",
       " (0, 0),\n",
       " (1, 1),\n",
       " (0, 0),\n",
       " (1, 1),\n",
       " (0, 0),\n",
       " (0, 0),\n",
       " (1, 1),\n",
       " (1, 1),\n",
       " (0, 0),\n",
       " (1, 1),\n",
       " (0, 0),\n",
       " (1, 1),\n",
       " (1, 1),\n",
       " (0, 0),\n",
       " (1, 1),\n",
       " (1, 1),\n",
       " (0, 0),\n",
       " (1, 1),\n",
       " (1, 1),\n",
       " (1, 1),\n",
       " (1, 1),\n",
       " (1, 1),\n",
       " (1, 1),\n",
       " (0, 0),\n",
       " (0, 0),\n",
       " (1, 1),\n",
       " (0, 0),\n",
       " (0, 0),\n",
       " (0, 0),\n",
       " (0, 0),\n",
       " (1, 1),\n",
       " (1, 1),\n",
       " (1, 1),\n",
       " (0, 0),\n",
       " (0, 0),\n",
       " (1, 1),\n",
       " (1, 1),\n",
       " (1, 1),\n",
       " (0, 0),\n",
       " (1, 1),\n",
       " (1, 1),\n",
       " (1, 1),\n",
       " (1, 1),\n",
       " (1, 1),\n",
       " (0, 0),\n",
       " (1, 1),\n",
       " (0, 0),\n",
       " (1, 1),\n",
       " (1, 1),\n",
       " (1, 1),\n",
       " (0, 0),\n",
       " (1, 1),\n",
       " (0, 0),\n",
       " (1, 1),\n",
       " (1, 1),\n",
       " (0, 0),\n",
       " (0, 0),\n",
       " (0, 0),\n",
       " (0, 0),\n",
       " (0, 0),\n",
       " (0, 0),\n",
       " (1, 1),\n",
       " (0, 0),\n",
       " (1, 1),\n",
       " (1, 1),\n",
       " (0, 0),\n",
       " (1, 1),\n",
       " (1, 1),\n",
       " (1, 1),\n",
       " (0, 0),\n",
       " (0, 0),\n",
       " (0, 0),\n",
       " (0, 0),\n",
       " (1, 1),\n",
       " (0, 0),\n",
       " (0, 0),\n",
       " (1, 1),\n",
       " (1, 1),\n",
       " (0, 0),\n",
       " (0, 0),\n",
       " (0, 0),\n",
       " (0, 0),\n",
       " (1, 1),\n",
       " (0, 0),\n",
       " (0, 0),\n",
       " (0, 0),\n",
       " (0, 0),\n",
       " (0, 0),\n",
       " (1, 1),\n",
       " (0, 0),\n",
       " (1, 1),\n",
       " (0, 0),\n",
       " (1, 1),\n",
       " (1, 1),\n",
       " (0, 0),\n",
       " (1, 1),\n",
       " (1, 1),\n",
       " (1, 1),\n",
       " (0, 0),\n",
       " (0, 0),\n",
       " (1, 1),\n",
       " (1, 1),\n",
       " (1, 1),\n",
       " (1, 1),\n",
       " (1, 1),\n",
       " (1, 1),\n",
       " (0, 0),\n",
       " (0, 0),\n",
       " (1, 1),\n",
       " (1, 1),\n",
       " (1, 1),\n",
       " (0, 0),\n",
       " (1, 1),\n",
       " (0, 0),\n",
       " (0, 0),\n",
       " (0, 0),\n",
       " (1, 1),\n",
       " (1, 1),\n",
       " (1, 1),\n",
       " (0, 0),\n",
       " (0, 0),\n",
       " (1, 1),\n",
       " (1, 1),\n",
       " (0, 0),\n",
       " (0, 0),\n",
       " (1, 1),\n",
       " (0, 0),\n",
       " (1, 1),\n",
       " (0, 0),\n",
       " (1, 1),\n",
       " (1, 1),\n",
       " (0, 0),\n",
       " (1, 1),\n",
       " (1, 1),\n",
       " (1, 1),\n",
       " (1, 1),\n",
       " (0, 0),\n",
       " (1, 1),\n",
       " (0, 0),\n",
       " (1, 1),\n",
       " (0, 0),\n",
       " (1, 1),\n",
       " (0, 0),\n",
       " (1, 1),\n",
       " (0, 0),\n",
       " (0, 0),\n",
       " (0, 0),\n",
       " (0, 0),\n",
       " (0, 0),\n",
       " (0, 0),\n",
       " (0, 0),\n",
       " (0, 0),\n",
       " (1, 1),\n",
       " (0, 0),\n",
       " (1, 1),\n",
       " (0, 0)]"
      ]
     },
     "execution_count": 111,
     "metadata": {},
     "output_type": "execute_result"
    }
   ],
   "source": [
    "zip(fv_train.axes[0],true_labels)"
   ]
  },
  {
   "cell_type": "code",
   "execution_count": null,
   "metadata": {
    "collapsed": true
   },
   "outputs": [],
   "source": []
  }
 ],
 "metadata": {
  "kernelspec": {
   "display_name": "Python 2",
   "language": "python",
   "name": "python2"
  },
  "language_info": {
   "codemirror_mode": {
    "name": "ipython",
    "version": 2
   },
   "file_extension": ".py",
   "mimetype": "text/x-python",
   "name": "python",
   "nbconvert_exporter": "python",
   "pygments_lexer": "ipython2",
   "version": "2.7.13"
  }
 },
 "nbformat": 4,
 "nbformat_minor": 1
}
