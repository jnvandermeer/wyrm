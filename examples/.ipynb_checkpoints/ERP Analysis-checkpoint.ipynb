{
 "cells": [
  {
   "cell_type": "code",
   "execution_count": 1,
   "metadata": {},
   "outputs": [],
   "source": [
    "# ERP Analysis Example\n",
    "# roughly based on /svn/bbci/toolbox/demos/stdERPanalysis.m"
   ]
  },
  {
   "cell_type": "code",
   "execution_count": 2,
   "metadata": {},
   "outputs": [],
   "source": [
    "from __future__ import division\n",
    "\n",
    "import numpy as np\n",
    "from matplotlib import pyplot as plt\n",
    "from scipy.signal import butter\n",
    "\n",
    "from wyrm import processing as proc\n",
    "from wyrm import plot\n",
    "from wyrm import io"
   ]
  },
  {
   "cell_type": "code",
   "execution_count": 3,
   "metadata": {},
   "outputs": [],
   "source": [
    "# load bv data into cnt\n",
    "cnt = io.load_brain_vision_data('data/OnlineTrainFileVPfaz.vhdr')"
   ]
  },
  {
   "cell_type": "code",
   "execution_count": 4,
   "metadata": {},
   "outputs": [],
   "source": [
    "# remove unneeded channels\n",
    "cnt = proc.remove_channels(cnt, ['EOG.*', 'Mas.*'])"
   ]
  },
  {
   "cell_type": "code",
   "execution_count": 5,
   "metadata": {},
   "outputs": [],
   "source": [
    "# bandpass filter the data\n",
    "fn = cnt.fs / 2\n",
    "b, a = butter(4, [2 / fn, 40 / fn], btype='band')\n",
    "cnt = proc.lfilter(cnt, b, a)"
   ]
  },
  {
   "cell_type": "code",
   "execution_count": 6,
   "metadata": {},
   "outputs": [],
   "source": [
    "# subsample to 100hz\n",
    "cnt = proc.subsample(cnt, 100)"
   ]
  },
  {
   "cell_type": "code",
   "execution_count": 7,
   "metadata": {},
   "outputs": [],
   "source": [
    "# TODO: rereferencing?"
   ]
  },
  {
   "cell_type": "code",
   "execution_count": 8,
   "metadata": {},
   "outputs": [],
   "source": [
    "# epoch the data\n",
    "mrk_def = {'std': ['S %2i' % i for i in range(2, 7)],\n",
    "           'dev': ['S %2i' % i for i in range(12, 17)]\n",
    "           }\n",
    "epo = proc.segment_dat(cnt, mrk_def, [-150, 800])"
   ]
  },
  {
   "cell_type": "code",
   "execution_count": 9,
   "metadata": {},
   "outputs": [],
   "source": [
    "# TODO: artifact rejection"
   ]
  },
  {
   "cell_type": "code",
   "execution_count": 10,
   "metadata": {},
   "outputs": [],
   "source": [
    "# TODO: compute disciminability\n",
    "# proc_r_square_signed"
   ]
  },
  {
   "cell_type": "code",
   "execution_count": 11,
   "metadata": {},
   "outputs": [],
   "source": [
    "avg_epo = proc.calculate_classwise_average(epo)"
   ]
  },
  {
   "cell_type": "code",
   "execution_count": 12,
   "metadata": {},
   "outputs": [],
   "source": [
    "for i, e in enumerate(avg_epo.class_names):\n",
    "    plot.plot_channels(proc.select_epochs(avg_epo, [i]))\n",
    "    \n",
    "plt.legend(avg_epo.class_names)\n",
    "plt.show()"
   ]
  },
  {
   "cell_type": "code",
   "execution_count": 13,
   "metadata": {},
   "outputs": [],
   "source": [
    "plot.plot_channels(proc.select_epochs(epo, [100]))\n",
    "plt.show()"
   ]
  },
  {
   "cell_type": "code",
   "execution_count": 13,
   "metadata": {},
   "outputs": [],
   "source": []
  }
 ],
 "metadata": {
  "kernelspec": {
   "display_name": "Python 3",
   "language": "python",
   "name": "python3"
  },
  "language_info": {
   "codemirror_mode": {
    "name": "ipython",
    "version": 3
   },
   "file_extension": ".py",
   "mimetype": "text/x-python",
   "name": "python",
   "nbconvert_exporter": "python",
   "pygments_lexer": "ipython3",
   "version": "3.6.2"
  }
 },
 "nbformat": 4,
 "nbformat_minor": 1
}
